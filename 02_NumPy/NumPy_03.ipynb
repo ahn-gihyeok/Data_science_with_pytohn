{
 "cells": [
  {
   "cell_type": "markdown",
   "id": "4a9f74ef",
   "metadata": {},
   "source": [
    "# NumPy 배열 연산: 유니버설 함수\n",
    "- NumPy의 배열의 연산을 빠르게 만들기 위해선 벡터화 연산을 사용해야 한다\n",
    "- 이는 유니버설 함수(Ufuncs)를 통해 구현된다"
   ]
  },
  {
   "cell_type": "markdown",
   "id": "54a50843",
   "metadata": {},
   "source": [
    "### 루프는 느리다\n",
    "- 파이썬이 동적인 인터프리터 언어이기에 발생하는 '연산 느림'이라는 문제점을 해결하기 위한 많은 시도가 있었지만 표준 파이썬 엔진의 범위와 대중성을 넘지는 못함"
   ]
  },
  {
   "cell_type": "code",
   "execution_count": null,
   "id": "a6bfb368",
   "metadata": {},
   "outputs": [
    {
     "name": "stdout",
     "output_type": "stream",
     "text": [
      "[0.16666667 1.         0.25       0.25       0.125     ]\n"
     ]
    }
   ],
   "source": [
    "#값으로 이루어진 배열이 있고 각각의 역수를 계산하는 상황\n",
    "import numpy as np\n",
    "np.random.seed(0)\n",
    "\n",
    "def reverse(value):\n",
    "    output=np.empty(len(value))\n",
    "    for i in range(len(value)):\n",
    "        output[i]=1/value[i]\n",
    "    return output\n",
    "\n",
    "value=np.random.randint(1,10,size=5)\n",
    "a=reverse(value)\n",
    "print(a) \n",
    "#이러한 연산은 큰 입력값을 넣으면 매우 느리다\n",
    "\n",
    "\n"
   ]
  },
  {
   "cell_type": "code",
   "execution_count": null,
   "id": "52fd6c97",
   "metadata": {},
   "outputs": [
    {
     "name": "stdout",
     "output_type": "stream",
     "text": [
      "250 ms ± 4.39 ms per loop (mean ± std. dev. of 7 runs, 1 loop each)\n"
     ]
    }
   ],
   "source": [
    "big_array=np.random.randint(1,100,size=1000000)\n",
    "%timeit reverse(big_array) "
   ]
  },
  {
   "cell_type": "markdown",
   "id": "f65f86f5",
   "metadata": {},
   "source": [
    "### Ufuncs 소개\n",
    "- NumPy의 벡터화 연산은 속도를 매우 빠르게 함"
   ]
  },
  {
   "cell_type": "code",
   "execution_count": null,
   "id": "ec7415bc",
   "metadata": {},
   "outputs": [
    {
     "name": "stdout",
     "output_type": "stream",
     "text": [
      "[0.16666667 1.         0.25       0.25       0.125     ]\n",
      "[0.16666667 1.         0.25       0.25       0.125     ]\n"
     ]
    }
   ],
   "source": [
    "print(reverse(value))\n",
    "print(1.0/value)\n",
    "#둘은 같은 결과를 산출한다"
   ]
  },
  {
   "cell_type": "code",
   "execution_count": null,
   "id": "0187674f",
   "metadata": {},
   "outputs": [
    {
     "name": "stdout",
     "output_type": "stream",
     "text": [
      "3 ms ± 34.2 μs per loop (mean ± std. dev. of 7 runs, 100 loops each)\n"
     ]
    }
   ],
   "source": [
    "%timeit (1.0/big_array) #이는 %timeit reverse(big_array)의 결과보다 백배 가량 빠름"
   ]
  },
  {
   "cell_type": "code",
   "execution_count": 6,
   "id": "705e10ae",
   "metadata": {},
   "outputs": [
    {
     "data": {
      "text/plain": [
       "array([0.        , 0.5       , 0.66666667, 0.75      , 0.8       ])"
      ]
     },
     "execution_count": 6,
     "metadata": {},
     "output_type": "execute_result"
    }
   ],
   "source": [
    "#이러한 벡터화 연산은 Ufuncs를 통해 구현된다\n",
    "#유니버설 함수는 매우 유연해서 앞서 봤던 스칼라와 배열 사이의 연산뿐만 아니라 배열 간에 연산도 가능하다\n",
    "np.arange(5)/np.arange(1,6)"
   ]
  },
  {
   "cell_type": "code",
   "execution_count": 7,
   "id": "a0b7986c",
   "metadata": {},
   "outputs": [
    {
     "data": {
      "text/plain": [
       "array([[  1,   2,   4],\n",
       "       [  8,  16,  32],\n",
       "       [ 64, 128, 256]])"
      ]
     },
     "execution_count": 7,
     "metadata": {},
     "output_type": "execute_result"
    }
   ],
   "source": [
    "#ufuncs 연산은 다차원 배열에도 동작한다\n",
    "x=np.arange(9).reshape((3,3))\n",
    "2**x"
   ]
  },
  {
   "cell_type": "markdown",
   "id": "57f68bde",
   "metadata": {},
   "source": [
    "### NumPy 유니버설 함수(Ufuncs)\n"
   ]
  },
  {
   "cell_type": "code",
   "execution_count": 8,
   "id": "21b3787f",
   "metadata": {},
   "outputs": [
    {
     "name": "stdout",
     "output_type": "stream",
     "text": [
      "x    = [0 1 2 3]\n",
      "x + 5= [5 6 7 8]\n",
      "x - 5= [-5 -4 -3 -2]\n",
      "x * 2= [0 2 4 6]\n",
      "x / 2= [0.  0.5 1.  1.5]\n",
      "x // 2= [0 0 1 1]\n"
     ]
    }
   ],
   "source": [
    "#배열 산술 연산\n",
    "x=np.arange(4)\n",
    "print('x    =', x)\n",
    "print('x + 5=', x+5)\n",
    "print('x - 5=', x-5)\n",
    "print('x * 2=', x*2)\n",
    "print('x / 2=', x/2)\n",
    "print('x // 2=',x//2) #몫\n"
   ]
  },
  {
   "cell_type": "code",
   "execution_count": 9,
   "id": "fd33e052",
   "metadata": {},
   "outputs": [
    {
     "name": "stdout",
     "output_type": "stream",
     "text": [
      "-x    = [ 0 -1 -2 -3]\n",
      "x**2  = [0 1 4 9]\n",
      "x%2   = [0 1 0 1]\n"
     ]
    }
   ],
   "source": [
    "#음수 만들기, 지수 연산, 나머지 연산\n",
    "print('-x    =', -x)\n",
    "print('x**2  =', x**2)\n",
    "print('x%2   =', x%2)"
   ]
  },
  {
   "cell_type": "code",
   "execution_count": 10,
   "id": "d9a26aae",
   "metadata": {},
   "outputs": [
    {
     "data": {
      "text/plain": [
       "array([-1.  , -2.25, -4.  , -6.25])"
      ]
     },
     "execution_count": 10,
     "metadata": {},
     "output_type": "execute_result"
    }
   ],
   "source": [
    "#섞어 사용 가능\n",
    "-(0.5*x+1)**2"
   ]
  },
  {
   "cell_type": "markdown",
   "id": "9f198b0b",
   "metadata": {},
   "source": [
    "- 이러한 산술 연산은 편의를 위해 NumPy 내장 함수를 감싼 **래퍼 함수**이다\n",
    "\n",
    "<표준 NumPy 데이터 타입>\n",
    "| 연산자 | 대응 ufuncs | 설명 |\n",
    "| :--- | :--- | :--- |\n",
    "| + | np.add | 덧셈(예: 1 + 1 = 2) |\n",
    "| - | np.subtract | 뺄셈(예: 3 - 2 = 1) |\n",
    "| 단항 연산자 | np.negative | 단항 음수(예: -2) |\n",
    "| * | np.multiply | 곱셈(예: 2 * 3 = 6) |\n",
    "| / | np.divide | 나눗셈(예: 3 / 2 = 1.5) |\n",
    "| // | np.floor_divide | 바닥 나눗셈(예: 3 // 2 = 1) |\n",
    "| ** | np.power | 지수 연산(예: 2 ** 3 = 8) |\n",
    "| % | np.mod | 나머지 연산(예: 9 % 4 = 1) |"
   ]
  },
  {
   "cell_type": "markdown",
   "id": "7b2c12bc",
   "metadata": {},
   "source": []
  },
  {
   "cell_type": "code",
   "execution_count": 11,
   "id": "5bb4caa9",
   "metadata": {},
   "outputs": [
    {
     "data": {
      "text/plain": [
       "array([2, 1, 0, 1, 2])"
      ]
     },
     "execution_count": 11,
     "metadata": {},
     "output_type": "execute_result"
    }
   ],
   "source": [
    "#절댓값 함수\n",
    "#NumPy는 파이썬 내장 산술 연산자 뿐 아닌 내장된 절댓값 함수도 이해한다\n",
    "x=np.array([-2,-1,0,1,2])\n",
    "abs(x)"
   ]
  },
  {
   "cell_type": "code",
   "execution_count": 12,
   "id": "a332baad",
   "metadata": {},
   "outputs": [
    {
     "data": {
      "text/plain": [
       "array([5., 5., 2., 1.])"
      ]
     },
     "execution_count": 12,
     "metadata": {},
     "output_type": "execute_result"
    }
   ],
   "source": [
    "#ufuncs은 복소수 데이터도 처리할 수 있으며, 이 경우 절댓값은 크기를 반환한다\n",
    "x=np.array([3-4j,4-3j,2+0j,0+1j])\n",
    "abs(x)"
   ]
  },
  {
   "cell_type": "code",
   "execution_count": null,
   "id": "dfb69d9a",
   "metadata": {},
   "outputs": [
    {
     "name": "stdout",
     "output_type": "stream",
     "text": [
      "theta      =  [0.         1.57079633 3.14159265]\n",
      "sin(theta) =  [0.0000000e+00 1.0000000e+00 1.2246468e-16]\n",
      "cos(theta) =  [ 1.000000e+00  6.123234e-17 -1.000000e+00]\n",
      "tan(theta) =  [ 0.00000000e+00  1.63312394e+16 -1.22464680e-16]\n"
     ]
    }
   ],
   "source": [
    "#삼각함수\n",
    "theta=np.linspace(0,np.pi,3) #각도 배열 정의\n",
    "print('theta      = ',theta)\n",
    "print('sin(theta) = ',np.sin(theta))\n",
    "print('cos(theta) = ',np.cos(theta))\n",
    "print('tan(theta) = ',np.tan(theta))\n",
    "#역삼각 함수 또한 사용 가능-arcsin, arccos, arctan"
   ]
  },
  {
   "cell_type": "code",
   "execution_count": null,
   "id": "5bcac354",
   "metadata": {},
   "outputs": [
    {
     "name": "stdout",
     "output_type": "stream",
     "text": [
      "x    =  [1, 2, 3]\n",
      "e^x  =  [ 2.71828183  7.3890561  20.08553692]\n",
      "2^x  =  [2. 4. 8.]\n",
      "3^x  =  [ 3  9 27]\n"
     ]
    }
   ],
   "source": [
    "#지수와 로그\n",
    "x=[1,2,3]\n",
    "print('x    = ',x)\n",
    "print('e^x  = ',np.exp(x))\n",
    "print('2^x  = ',np.exp2(x))\n",
    "print('3^x  = ',np.power(3,x))\n"
   ]
  },
  {
   "cell_type": "code",
   "execution_count": 20,
   "id": "74b54fc4",
   "metadata": {},
   "outputs": [
    {
     "name": "stdout",
     "output_type": "stream",
     "text": [
      "x        =  [1, 2, 4, 10]\n",
      "ln(x)    =  [0.         0.69314718 1.38629436 2.30258509]\n",
      "log2(x)  =  [0.         1.         2.         3.32192809]\n",
      "log10(x) =  [0.         0.30103    0.60205999 1.        ]\n"
     ]
    }
   ],
   "source": [
    "#로그도 사용 가능\n",
    "x=[1,2,4,10]\n",
    "print('x        = ',x)\n",
    "print('ln(x)    = ',np.log(x)) #기본 np.log 연산자는 자연로그를 제공한다\n",
    "print('log2(x)  = ',np.log2(x))\n",
    "print('log10(x) = ',np.log10(x))"
   ]
  },
  {
   "cell_type": "code",
   "execution_count": null,
   "id": "5b9b328c",
   "metadata": {},
   "outputs": [],
   "source": [
    "#특화된 유니버설 함수\n",
    "#쌍곡선 삼각 함수, 비트 연산, 비교 연산자, 라디안을 각도로 변환, 반올림과 나머지 등\n",
    "from spicy import special #이 모듈을 통해 여러가지 수학적 함수들을 구현할 수 있다\n"
   ]
  }
 ],
 "metadata": {
  "kernelspec": {
   "display_name": "Python 3",
   "language": "python",
   "name": "python3"
  },
  "language_info": {
   "codemirror_mode": {
    "name": "ipython",
    "version": 3
   },
   "file_extension": ".py",
   "mimetype": "text/x-python",
   "name": "python",
   "nbconvert_exporter": "python",
   "pygments_lexer": "ipython3",
   "version": "3.13.5"
  }
 },
 "nbformat": 4,
 "nbformat_minor": 5
}
