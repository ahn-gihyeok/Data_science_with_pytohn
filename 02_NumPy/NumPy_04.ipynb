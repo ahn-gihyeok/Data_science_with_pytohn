{
 "cells": [
  {
   "cell_type": "markdown",
   "id": "66f5030d",
   "metadata": {},
   "source": [
    "# 집계: 최솟값, 최댓값, 그리고 그 사이의 모든 것\n",
    "\n",
    "- 대규모 데이터에 직면 → 먼저 데이터의 요약 통계를 계산!\n",
    "- 보편적인 요약 통계 = 평균, 표준편차\n",
    "- 다른 집계도 유용(합, 곱, 중앙값, 최솟값, 최댓값, 분위 수 등)\n",
    "- NumPy에는 배열에서 사용 가능한 내장 집계 함수 존재!"
   ]
  },
  {
   "cell_type": "markdown",
   "id": "ffab5964",
   "metadata": {},
   "source": [
    "## 배열의 값의 합 구하기"
   ]
  },
  {
   "cell_type": "code",
   "execution_count": 1,
   "id": "d3c11185",
   "metadata": {},
   "outputs": [
    {
     "data": {
      "text/plain": [
       "np.float64(51.79553371531157)"
      ]
     },
     "execution_count": 1,
     "metadata": {},
     "output_type": "execute_result"
    }
   ],
   "source": [
    "# 배열 내의 모든 값의 합 계산\n",
    "\n",
    "import numpy as np\n",
    "\n",
    "L=np.random.random(100)\n",
    "sum(L) # 파이썬 내장 "
   ]
  },
  {
   "cell_type": "code",
   "execution_count": 2,
   "id": "e1d3c792",
   "metadata": {},
   "outputs": [
    {
     "data": {
      "text/plain": [
       "np.float64(51.795533715311585)"
      ]
     },
     "execution_count": 2,
     "metadata": {},
     "output_type": "execute_result"
    }
   ],
   "source": [
    "np.sum(L) # NumPy 함수, 기능은 같음"
   ]
  },
  {
   "cell_type": "code",
   "execution_count": null,
   "id": "fcbe75a4",
   "metadata": {},
   "outputs": [
    {
     "name": "stdout",
     "output_type": "stream",
     "text": [
      "11 ms ± 565 μs per loop (mean ± std. dev. of 7 runs, 100 loops each)\n",
      "63.9 μs ± 4.51 μs per loop (mean ± std. dev. of 7 runs, 10,000 loops each)\n"
     ]
    }
   ],
   "source": [
    "big_array=np.random.rand(100000)\n",
    "\n",
    "%timeit sum(big_array)\n",
    "%timeit np.sum(big_array) # NumPy에서의 연산이 압도적으로 빠름. 또한 np.sum은 다중 배열 차원을 인지함."
   ]
  },
  {
   "cell_type": "markdown",
   "id": "e5d6c35c",
   "metadata": {},
   "source": [
    "## 최솟값과 최댓값"
   ]
  },
  {
   "cell_type": "code",
   "execution_count": 6,
   "id": "b897d4df",
   "metadata": {},
   "outputs": [
    {
     "name": "stdout",
     "output_type": "stream",
     "text": [
      "1.2440975593941417e-05 0.9999923313830181\n"
     ]
    }
   ],
   "source": [
    "# 배열의 최솟값을 찾는 min, 최댓값을 찾는 max (파이썬 내장)\n",
    "print(min(big_array), max(big_array))"
   ]
  },
  {
   "cell_type": "code",
   "execution_count": 7,
   "id": "41a67afa",
   "metadata": {},
   "outputs": [
    {
     "name": "stdout",
     "output_type": "stream",
     "text": [
      "1.2440975593941417e-05 0.9999923313830181\n"
     ]
    }
   ],
   "source": [
    "# NumPy의 함수인 np.min, np.max도 존재\n",
    "print(np.min(big_array), np.max(big_array))"
   ]
  },
  {
   "cell_type": "code",
   "execution_count": null,
   "id": "b5d64fcc",
   "metadata": {},
   "outputs": [
    {
     "name": "stdout",
     "output_type": "stream",
     "text": [
      "7.07 ms ± 508 μs per loop (mean ± std. dev. of 7 runs, 100 loops each)\n",
      "38 μs ± 6.09 μs per loop (mean ± std. dev. of 7 runs, 10,000 loops each)\n"
     ]
    }
   ],
   "source": [
    "%timeit min(big_array)\n",
    "%timeit np.min(big_array) # NumPy 연산이 압도적으로 빠름"
   ]
  },
  {
   "cell_type": "code",
   "execution_count": 9,
   "id": "ac32e4f2",
   "metadata": {},
   "outputs": [
    {
     "name": "stdout",
     "output_type": "stream",
     "text": [
      "49959.79576329344 1.2440975593941417e-05 0.9999923313830181\n"
     ]
    }
   ],
   "source": [
    "# 배열 객체 자체의 매서드를 사용한 구문도 가능 (sum, min, max)\n",
    "print(big_array.sum(), big_array.min(), big_array.max())"
   ]
  },
  {
   "cell_type": "markdown",
   "id": "30d390e1",
   "metadata": {},
   "source": [
    "## 다차원 집계"
   ]
  },
  {
   "cell_type": "code",
   "execution_count": 10,
   "id": "f456245b",
   "metadata": {},
   "outputs": [
    {
     "name": "stdout",
     "output_type": "stream",
     "text": [
      "[[0.38425224 0.81748501 0.80762655 0.20291402]\n",
      " [0.83418549 0.82974952 0.95277999 0.89816468]\n",
      " [0.83804987 0.55153032 0.34152039 0.26726341]]\n"
     ]
    }
   ],
   "source": [
    "# 2차원 배열\n",
    "M=np.random.random((3,4))\n",
    "print(M)"
   ]
  },
  {
   "cell_type": "code",
   "execution_count": 11,
   "id": "90878da7",
   "metadata": {},
   "outputs": [
    {
     "data": {
      "text/plain": [
       "np.float64(7.725521486981107)"
      ]
     },
     "execution_count": 11,
     "metadata": {},
     "output_type": "execute_result"
    }
   ],
   "source": [
    "M.sum() # 일반적으로 NumPy의 집계 함수는 전체 배열의 집계 값을 반환"
   ]
  },
  {
   "cell_type": "code",
   "execution_count": 12,
   "id": "c5b6f6f3",
   "metadata": {},
   "outputs": [
    {
     "data": {
      "text/plain": [
       "array([0.38425224, 0.55153032, 0.34152039, 0.20291402])"
      ]
     },
     "execution_count": 12,
     "metadata": {},
     "output_type": "execute_result"
    }
   ],
   "source": [
    "M.min(axis=0) # 열의 최솟값 찾기"
   ]
  },
  {
   "cell_type": "code",
   "execution_count": 14,
   "id": "5684706e",
   "metadata": {},
   "outputs": [
    {
     "data": {
      "text/plain": [
       "array([0.20291402, 0.82974952, 0.26726341])"
      ]
     },
     "execution_count": 14,
     "metadata": {},
     "output_type": "execute_result"
    }
   ],
   "source": [
    "M.min(axis=1) # 행의 최솟값 찾기"
   ]
  },
  {
   "cell_type": "markdown",
   "id": "4629fa87",
   "metadata": {},
   "source": [
    "## 기타 집계 함수\n",
    "\n",
    "- NumPy 1.8 이상에서는 누락된 값을 무시한 채 값을 계산하는 NaN 안전 모드가 존재\n",
    "\n",
    "| 함수명        | NaN 안전 모드     | 설명                        |\n",
    "|---------------|-------------------|-----------------------------|\n",
    "| np.sum        | np.nansum         | 요소의 합 계산              |\n",
    "| np.prod       | np.nanprod        | 요소의 곱 계산              |\n",
    "| np.mean       | np.nanmean        | 요소의 평균 계산            |\n",
    "| np.std        | np.nanstd         | 표준 편차 계산              |\n",
    "| np.var        | np.nanvar         | 분산 계산                   |\n",
    "| np.min        | np.nanmin         | 최소값 찾기                 |\n",
    "| np.max        | np.nanmax         | 최대값 찾기                 |\n",
    "| np.argmin     | np.nanargmin      | 최소값의 인덱스 찾기        |\n",
    "| np.argmax     | np.nanargmax      | 최대값의 인덱스 찾기        |\n",
    "| np.median     | np.nanmedian      | 요소의 중앙값 계산          |\n",
    "| np.percentile | np.nanpercentile  | 요소의 순위 기반 백분위 수 계산 |\n",
    "| np.any        | N/A               | 요소 중 참이 있는지 검사    |\n",
    "| np.all        | N/A               | 모든 요소가 참인지 검사     |\n"
   ]
  }
 ],
 "metadata": {
  "kernelspec": {
   "display_name": "Python 3",
   "language": "python",
   "name": "python3"
  },
  "language_info": {
   "codemirror_mode": {
    "name": "ipython",
    "version": 3
   },
   "file_extension": ".py",
   "mimetype": "text/x-python",
   "name": "python",
   "nbconvert_exporter": "python",
   "pygments_lexer": "ipython3",
   "version": "3.13.5"
  }
 },
 "nbformat": 4,
 "nbformat_minor": 5
}
