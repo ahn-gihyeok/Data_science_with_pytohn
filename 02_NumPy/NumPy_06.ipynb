{
 "cells": [
  {
   "cell_type": "markdown",
   "id": "1d1bc1a5",
   "metadata": {},
   "source": [
    "# 비교, 마스크, 부울 로직\n",
    "\n",
    "- 부울 마스크는 배열 내의 값을 검사하고 조작하는 데 사용함.\n",
    "- 마스킹은 특정 기준에 따라 배열의 값을 추출하거나 수정, 계산, 조작할 때 사용."
   ]
  },
  {
   "cell_type": "markdown",
   "id": "810abd2d",
   "metadata": {},
   "source": [
    "## ufunc으로서의 비교 연산자\n",
    "\n",
    "- 산술 연산자 = +, -, *, / 등\n",
    "- 비교 연산자 = <, > 등\n",
    "- 비교 연산자의 결과는 항상 부울 타입의 배열임. "
   ]
  },
  {
   "cell_type": "code",
   "execution_count": null,
   "id": "8d2b9cac",
   "metadata": {},
   "outputs": [
    {
     "data": {
      "text/plain": [
       "array([ True,  True, False, False, False])"
      ]
     },
     "execution_count": 18,
     "metadata": {},
     "output_type": "execute_result"
    }
   ],
   "source": [
    "import numpy as np\n",
    "\n",
    "x = np.array([1,2,3,4,5])\n",
    "x < 3 # 보다 작음"
   ]
  },
  {
   "cell_type": "code",
   "execution_count": 2,
   "id": "84e3874a",
   "metadata": {},
   "outputs": [
    {
     "data": {
      "text/plain": [
       "array([False, False, False,  True,  True])"
      ]
     },
     "execution_count": 2,
     "metadata": {},
     "output_type": "execute_result"
    }
   ],
   "source": [
    "x > 3 # 보다 큼"
   ]
  },
  {
   "cell_type": "code",
   "execution_count": 3,
   "id": "f39cb817",
   "metadata": {},
   "outputs": [
    {
     "data": {
      "text/plain": [
       "array([ True,  True,  True, False, False])"
      ]
     },
     "execution_count": 3,
     "metadata": {},
     "output_type": "execute_result"
    }
   ],
   "source": [
    "x <= 3 # 보다 작거나 같음"
   ]
  },
  {
   "cell_type": "code",
   "execution_count": 4,
   "id": "bdeecc03",
   "metadata": {},
   "outputs": [
    {
     "data": {
      "text/plain": [
       "array([False, False,  True,  True,  True])"
      ]
     },
     "execution_count": 4,
     "metadata": {},
     "output_type": "execute_result"
    }
   ],
   "source": [
    "x >= 3 # 보다 크거나 같음"
   ]
  },
  {
   "cell_type": "code",
   "execution_count": 5,
   "id": "556ce8e7",
   "metadata": {},
   "outputs": [
    {
     "data": {
      "text/plain": [
       "array([ True,  True, False,  True,  True])"
      ]
     },
     "execution_count": 5,
     "metadata": {},
     "output_type": "execute_result"
    }
   ],
   "source": [
    "x != 3 # 같지 않음"
   ]
  },
  {
   "cell_type": "code",
   "execution_count": 6,
   "id": "e78f08f3",
   "metadata": {},
   "outputs": [
    {
     "data": {
      "text/plain": [
       "array([False,  True, False, False, False])"
      ]
     },
     "execution_count": 6,
     "metadata": {},
     "output_type": "execute_result"
    }
   ],
   "source": [
    "# 두 배열을 항목별로 비교할 수 있으며 복잡 표현식을 적용할 수도 있음\n",
    "\n",
    "(2*x) == (x**2)"
   ]
  },
  {
   "cell_type": "markdown",
   "id": "e6a1b775",
   "metadata": {},
   "source": [
    "| 연산자 | 대응 ufunc |\n",
    "|-------|-----------|\n",
    "| == | np.equal |\n",
    "| != | np.not_equal |\n",
    "| < | np.less |\n",
    "| <= | np.less_equal |\n",
    "| > | np.greater |\n",
    "| >= | np.greater_equal |"
   ]
  },
  {
   "cell_type": "code",
   "execution_count": 23,
   "id": "236f9b11",
   "metadata": {},
   "outputs": [
    {
     "data": {
      "text/plain": [
       "array([[5, 0, 3, 3],\n",
       "       [7, 9, 3, 5],\n",
       "       [2, 4, 7, 6]], dtype=int32)"
      ]
     },
     "execution_count": 23,
     "metadata": {},
     "output_type": "execute_result"
    }
   ],
   "source": [
    "# 산술 연산자처럼 모든 크기와 형상의 배열에 적용됨.\n",
    "# 2차원 예제\n",
    "\n",
    "rng = np.random.RandomState(0)\n",
    "x = rng.randint(10, size=(3,4))\n",
    "x"
   ]
  },
  {
   "cell_type": "code",
   "execution_count": 8,
   "id": "a9476103",
   "metadata": {},
   "outputs": [
    {
     "data": {
      "text/plain": [
       "array([[ True,  True,  True,  True],\n",
       "       [False, False,  True,  True],\n",
       "       [ True,  True, False, False]])"
      ]
     },
     "execution_count": 8,
     "metadata": {},
     "output_type": "execute_result"
    }
   ],
   "source": [
    "x < 6"
   ]
  },
  {
   "cell_type": "markdown",
   "id": "a1372157",
   "metadata": {},
   "source": [
    "## 부울 배열로 작업하기"
   ]
  },
  {
   "cell_type": "code",
   "execution_count": 9,
   "id": "c3936cf1",
   "metadata": {},
   "outputs": [
    {
     "name": "stdout",
     "output_type": "stream",
     "text": [
      "[[5 0 3 3]\n",
      " [7 9 3 5]\n",
      " [2 4 7 6]]\n"
     ]
    }
   ],
   "source": [
    "print(x)"
   ]
  },
  {
   "cell_type": "markdown",
   "id": "1ded9b03",
   "metadata": {},
   "source": [
    "### 요소 개수 세기"
   ]
  },
  {
   "cell_type": "code",
   "execution_count": 10,
   "id": "f150a451",
   "metadata": {},
   "outputs": [
    {
     "data": {
      "text/plain": [
       "np.int64(8)"
      ]
     },
     "execution_count": 10,
     "metadata": {},
     "output_type": "execute_result"
    }
   ],
   "source": [
    "# 6보다 작은 값은 몇 개일까?\n",
    "np.count_nonzero(x < 6)"
   ]
  },
  {
   "cell_type": "code",
   "execution_count": 11,
   "id": "1967039b",
   "metadata": {},
   "outputs": [
    {
     "data": {
      "text/plain": [
       "np.int64(8)"
      ]
     },
     "execution_count": 11,
     "metadata": {},
     "output_type": "execute_result"
    }
   ],
   "source": [
    "np.sum(x < 6) # False = 0, True = 1"
   ]
  },
  {
   "cell_type": "code",
   "execution_count": 12,
   "id": "23a95b91",
   "metadata": {},
   "outputs": [
    {
     "data": {
      "text/plain": [
       "array([4, 2, 2])"
      ]
     },
     "execution_count": 12,
     "metadata": {},
     "output_type": "execute_result"
    }
   ],
   "source": [
    "# 각 행에 6보다 작은 값은 몇 개일까?\n",
    "np.sum(x < 6, axis=1)"
   ]
  },
  {
   "cell_type": "code",
   "execution_count": 13,
   "id": "eb8b3eb4",
   "metadata": {},
   "outputs": [
    {
     "data": {
      "text/plain": [
       "np.True_"
      ]
     },
     "execution_count": 13,
     "metadata": {},
     "output_type": "execute_result"
    }
   ],
   "source": [
    "# 8보다 큰 값이 하나라도 있는가?\n",
    "np.any(x > 8)"
   ]
  },
  {
   "cell_type": "code",
   "execution_count": 14,
   "id": "a24f9b51",
   "metadata": {},
   "outputs": [
    {
     "data": {
      "text/plain": [
       "np.False_"
      ]
     },
     "execution_count": 14,
     "metadata": {},
     "output_type": "execute_result"
    }
   ],
   "source": [
    "# 0보다 작은 값이 하나라도 있는가?\n",
    "np.any(x < 0)"
   ]
  },
  {
   "cell_type": "code",
   "execution_count": 15,
   "id": "dd98675c",
   "metadata": {},
   "outputs": [
    {
     "data": {
      "text/plain": [
       "np.True_"
      ]
     },
     "execution_count": 15,
     "metadata": {},
     "output_type": "execute_result"
    }
   ],
   "source": [
    "# 모든 값이 10보다 작은가?\n",
    "np.all(x < 10)"
   ]
  },
  {
   "cell_type": "code",
   "execution_count": 16,
   "id": "854cfe6f",
   "metadata": {},
   "outputs": [
    {
     "data": {
      "text/plain": [
       "np.False_"
      ]
     },
     "execution_count": 16,
     "metadata": {},
     "output_type": "execute_result"
    }
   ],
   "source": [
    "# 모든 값이 6과 같은가?\n",
    "np.all(x == 6)"
   ]
  },
  {
   "cell_type": "code",
   "execution_count": 17,
   "id": "e1441d02",
   "metadata": {},
   "outputs": [
    {
     "data": {
      "text/plain": [
       "array([ True, False,  True])"
      ]
     },
     "execution_count": 17,
     "metadata": {},
     "output_type": "execute_result"
    }
   ],
   "source": [
    "# 각 행의 모든 값이 8보다 작은가?\n",
    "np.all(x < 8,axis=1)"
   ]
  },
  {
   "cell_type": "markdown",
   "id": "4ae3c6cb",
   "metadata": {},
   "source": [
    "### 부울 연산자\n",
    "\n",
    "- NumPy는 파이썬의 비트 단위 로직 연산자(&,|,^,~)를 배열의 요소 단위로 동작하는 유니버설 함수로 오버로딩 함."
   ]
  },
  {
   "cell_type": "code",
   "execution_count": 19,
   "id": "f854a162",
   "metadata": {},
   "outputs": [
    {
     "data": {
      "text/plain": [
       "np.int64(2)"
      ]
     },
     "execution_count": 19,
     "metadata": {},
     "output_type": "execute_result"
    }
   ],
   "source": [
    "# 3보다 크고 7보다 작은 값들의 개수\n",
    "np.sum((x > 3)&(x < 7))"
   ]
  },
  {
   "cell_type": "code",
   "execution_count": 21,
   "id": "41160c0c",
   "metadata": {},
   "outputs": [
    {
     "data": {
      "text/plain": [
       "np.int64(2)"
      ]
     },
     "execution_count": 21,
     "metadata": {},
     "output_type": "execute_result"
    }
   ],
   "source": [
    "# A AND B = NOT(A OR B)\n",
    "np.sum(~( (x <= 3) | (x >= 7) ))"
   ]
  },
  {
   "cell_type": "markdown",
   "id": "38713b9e",
   "metadata": {},
   "source": [
    "| 연산자 | 대응 ufunc |\n",
    "|-------|-----------|\n",
    "| & | np.biwise_and |\n",
    "| \\| | np.biwise_or |\n",
    "| ^ | np.biwise_xor |\n",
    "| ~ | np.biwise_not |"
   ]
  },
  {
   "cell_type": "markdown",
   "id": "d2e5dc94",
   "metadata": {},
   "source": [
    "## 마스크로서의 부울 배열\n",
    "\n",
    "- 부울 배열을 마스크로 사용해 데이터 자체의 특정 부분 집합을 선택하기"
   ]
  },
  {
   "cell_type": "code",
   "execution_count": null,
   "id": "2925f566",
   "metadata": {},
   "outputs": [
    {
     "data": {
      "text/plain": [
       "array([[5, 0, 3, 3],\n",
       "       [7, 9, 3, 5],\n",
       "       [2, 4, 7, 6]], dtype=int32)"
      ]
     },
     "execution_count": 24,
     "metadata": {},
     "output_type": "execute_result"
    }
   ],
   "source": [
    "# x에서 5보다 작은 배열 내 값들을 모두 구하기\n",
    "x"
   ]
  },
  {
   "cell_type": "code",
   "execution_count": 25,
   "id": "1254a56a",
   "metadata": {},
   "outputs": [
    {
     "data": {
      "text/plain": [
       "array([[False,  True,  True,  True],\n",
       "       [False, False,  True, False],\n",
       "       [ True,  True, False, False]])"
      ]
     },
     "execution_count": 25,
     "metadata": {},
     "output_type": "execute_result"
    }
   ],
   "source": [
    "x < 5"
   ]
  },
  {
   "cell_type": "code",
   "execution_count": 26,
   "id": "0fce88f8",
   "metadata": {},
   "outputs": [
    {
     "data": {
      "text/plain": [
       "array([0, 3, 3, 3, 2, 4], dtype=int32)"
      ]
     },
     "execution_count": 26,
     "metadata": {},
     "output_type": "execute_result"
    }
   ],
   "source": [
    "# 마스킹 연산\n",
    "x[x < 5]"
   ]
  }
 ],
 "metadata": {
  "kernelspec": {
   "display_name": "Python 3",
   "language": "python",
   "name": "python3"
  },
  "language_info": {
   "codemirror_mode": {
    "name": "ipython",
    "version": 3
   },
   "file_extension": ".py",
   "mimetype": "text/x-python",
   "name": "python",
   "nbconvert_exporter": "python",
   "pygments_lexer": "ipython3",
   "version": "3.13.5"
  }
 },
 "nbformat": 4,
 "nbformat_minor": 5
}
