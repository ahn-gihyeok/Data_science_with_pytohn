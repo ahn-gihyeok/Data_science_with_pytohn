{
 "cells": [
  {
   "cell_type": "markdown",
   "id": "0b825aad",
   "metadata": {},
   "source": [
    "# NumPy 소개\n",
    "\n",
    "- 데이터를 숫자로 표현하는 것이 데이터 처리의 기본!\n",
    "- **Numpy**는 python에서 데이터를 효율적으로 저장 및 처리할 수 있게 해줌."
   ]
  },
  {
   "cell_type": "code",
   "execution_count": null,
   "id": "004a5712",
   "metadata": {},
   "outputs": [
    {
     "data": {
      "text/plain": [
       "'2.3.2'"
      ]
     },
     "execution_count": 5,
     "metadata": {},
     "output_type": "execute_result"
    }
   ],
   "source": [
    "#NumPy import하기\n",
    "import numpy as np\n",
    "numpy.__version__"
   ]
  },
  {
   "cell_type": "markdown",
   "id": "22d06a16",
   "metadata": {},
   "source": [
    "# 파이썬의 데이터 타입 이해하기\n",
    "\n",
    "- 파이썬은 변수의 타입을 동적으로 추론하는 **동적 타입 체계**이다.\n",
    "- C나 자바와 같은 정적 타입 체계는 변수의 타입을 하나하나 지정해줘야한다.\n",
    "- 파이썬의 동적 타입 체계는 서로 다른 데이터 타입을 리스트에 담을 수 있게 함."
   ]
  },
  {
   "cell_type": "markdown",
   "id": "d0a04dec",
   "metadata": {},
   "source": [
    "### 파썬의 정수는 정수 이상이다\n",
    "- 표준 파이썬은 C로 구현되어있다.\n",
    "- 파이썬 3.6의 단일 정수를 실제로 구성하는 구성 요소는 다음과 같다.\n",
    "   1. ob_refcnt: 파이썬이 조용히 메모리 할당과 해체를 처리할 수 있게 돕는 참조 횟수\n",
    "   2. ob_type: 변수 타입을 인코딩\n",
    "   3. ob_size: 다음 데이터 멤버의 크기를 지정\n",
    "   4. ob_digit: 파이썬 변수가 나타내는 실제 정숫값을 포함"
   ]
  },
  {
   "cell_type": "markdown",
   "id": "3f047782",
   "metadata": {},
   "source": [
    "### 파이썬 리스트는 리스트 이상이다\n",
    "- 파이썬의 유연성은 리스트 내에 서로 다른 타입의 요소를 담을 수 있게 해준다.\n",
    "- 그러나 이러한 유연성에는 비용이 따른다. 리스트의 각 항목이 타입 정보와 참조 횟수, 기타 정보가 들어있는 완전한 파이썬 객체이다.\n",
    "- 모든 변수가 같은 타입이라면 이 정보가 불필요하게 중복되니 고정 타입 배열에 데이터를 저장하는 것이 효율적일 수 있다. Numpy는 이러한 고정 타입 배열을 가능하게 한다.\n",
    "- NumPy 스타일 배열은 유연성은 부족하나 데이터의 저장과 가공 측면에서는 훨씬 효율적이다.\n"
   ]
  },
  {
   "cell_type": "markdown",
   "id": "59dd9b5d",
   "metadata": {},
   "source": [
    "### 파이썬의 고정 타입 배열\n",
    "- NumPy의 내장 array 모듈은 단일 타입의 조밀한 배열을 만드는데 사용할 수 있다.\n",
    "- ndarray 객체는 배열 기반 데이터에 효율적인 저장소를 제공하는 array 객체에 효율적인 연산이 추가된다."
   ]
  },
  {
   "cell_type": "code",
   "execution_count": 16,
   "id": "cc3a4ca6",
   "metadata": {},
   "outputs": [
    {
     "data": {
      "text/plain": [
       "array('i', [0, 1, 2, 3, 4, 5, 6, 7, 8, 9])"
      ]
     },
     "execution_count": 16,
     "metadata": {},
     "output_type": "execute_result"
    }
   ],
   "source": [
    "#array 모듈\n",
    "import array\n",
    "L=list(range(10))\n",
    "A=array.array('i', L) #'i'는 내용이 정수임을 가리키는 타입 코드\n",
    "A"
   ]
  },
  {
   "cell_type": "markdown",
   "id": "d4954d48",
   "metadata": {},
   "source": [
    "### 파이썬 리스트에서 배열 만들기"
   ]
  },
  {
   "cell_type": "code",
   "execution_count": 17,
   "id": "32909551",
   "metadata": {},
   "outputs": [
    {
     "data": {
      "text/plain": [
       "array([1, 2, 3, 4, 5])"
      ]
     },
     "execution_count": 17,
     "metadata": {},
     "output_type": "execute_result"
    }
   ],
   "source": [
    "import numpy as np #별칭 np로 NumPy import하기\n",
    "\n",
    "np.array([1,2,3,4,5]) #정수 배열 만들기"
   ]
  },
  {
   "cell_type": "code",
   "execution_count": 18,
   "id": "2da84757",
   "metadata": {},
   "outputs": [
    {
     "data": {
      "text/plain": [
       "array([1.  , 4.  , 2.  , 3.14])"
      ]
     },
     "execution_count": 18,
     "metadata": {},
     "output_type": "execute_result"
    }
   ],
   "source": [
    "#NumPy는 베열의 모든 요소가 같은 타입이여야 함\n",
    "\n",
    "np.array([1,4,2,3.14]) #타입이 일치하지 않으면 NumPy는 가능한 경우 상위 타입을 취한다(다음은 정수의 상위 타입인 부동 소수점으로 변환된다)"
   ]
  },
  {
   "cell_type": "code",
   "execution_count": 19,
   "id": "d05a105c",
   "metadata": {},
   "outputs": [
    {
     "data": {
      "text/plain": [
       "array([1., 2., 3., 4.], dtype=float32)"
      ]
     },
     "execution_count": 19,
     "metadata": {},
     "output_type": "execute_result"
    }
   ],
   "source": [
    "#배열의 데이터 타입을 설정하려면 dtype 키워드 사용하기\n",
    "np.array([1,2,3,4],dtype='float32')"
   ]
  },
  {
   "cell_type": "code",
   "execution_count": 20,
   "id": "533fff1c",
   "metadata": {},
   "outputs": [
    {
     "data": {
      "text/plain": [
       "array([[2, 3, 4],\n",
       "       [4, 5, 6],\n",
       "       [6, 7, 8]])"
      ]
     },
     "execution_count": 20,
     "metadata": {},
     "output_type": "execute_result"
    }
   ],
   "source": [
    "#NumPy 배열은 명시적으로 다차원이 가능함\n",
    "np.array([range(i, i+3) for i in [2,4,6]]) "
   ]
  },
  {
   "cell_type": "markdown",
   "id": "4c6bf8e8",
   "metadata": {},
   "source": [
    "### 처음부터 배열 만들기\n",
    "- 규모가 큰 배열의 경우 Numpy에 내장된 루틴을 사용해 처음부터 배열을 생성하는 것이 더 효율적이다"
   ]
  },
  {
   "cell_type": "code",
   "execution_count": 21,
   "id": "e08985f6",
   "metadata": {},
   "outputs": [
    {
     "data": {
      "text/plain": [
       "array([0, 0, 0, 0, 0, 0, 0, 0, 0, 0])"
      ]
     },
     "execution_count": 21,
     "metadata": {},
     "output_type": "execute_result"
    }
   ],
   "source": [
    "#0으로 채운 길이가 10인 정수 배열 만들기\n",
    "np.zeros(10,dtype=int)"
   ]
  },
  {
   "cell_type": "code",
   "execution_count": 22,
   "id": "27924f6c",
   "metadata": {},
   "outputs": [
    {
     "data": {
      "text/plain": [
       "array([[1., 1., 1., 1., 1.],\n",
       "       [1., 1., 1., 1., 1.],\n",
       "       [1., 1., 1., 1., 1.]])"
      ]
     },
     "execution_count": 22,
     "metadata": {},
     "output_type": "execute_result"
    }
   ],
   "source": [
    "#1로 채운 3*5 부동 소수점 배열 만들기\n",
    "np.ones((3,5),dtype=float)"
   ]
  },
  {
   "cell_type": "code",
   "execution_count": 23,
   "id": "abe9c513",
   "metadata": {},
   "outputs": [
    {
     "data": {
      "text/plain": [
       "array([[3.14, 3.14, 3.14, 3.14, 3.14],\n",
       "       [3.14, 3.14, 3.14, 3.14, 3.14],\n",
       "       [3.14, 3.14, 3.14, 3.14, 3.14]])"
      ]
     },
     "execution_count": 23,
     "metadata": {},
     "output_type": "execute_result"
    }
   ],
   "source": [
    "#3.14로 채운 3*5 배열 만들기\n",
    "np.full((3,5),3.14)"
   ]
  },
  {
   "cell_type": "code",
   "execution_count": 24,
   "id": "26f1c7d7",
   "metadata": {},
   "outputs": [
    {
     "data": {
      "text/plain": [
       "array([ 0,  2,  4,  6,  8, 10, 12, 14, 16, 18])"
      ]
     },
     "execution_count": 24,
     "metadata": {},
     "output_type": "execute_result"
    }
   ],
   "source": [
    "#선형 수열로 채운 배열 만들기\n",
    "#0에서 시작해 2씩 더해 20까지 채움\n",
    "#내장 함수 range()와 유사함\n",
    "np.arange(0,20,2)"
   ]
  },
  {
   "cell_type": "code",
   "execution_count": 25,
   "id": "39c102d1",
   "metadata": {},
   "outputs": [
    {
     "data": {
      "text/plain": [
       "array([0.  , 0.25, 0.5 , 0.75, 1.  ])"
      ]
     },
     "execution_count": 25,
     "metadata": {},
     "output_type": "execute_result"
    }
   ],
   "source": [
    "#0과 1 사이에 일정한 간격을 가진 다섯 개의 값으로 채운 배열 만들기\n",
    "np.linspace(0,1,5)"
   ]
  },
  {
   "cell_type": "code",
   "execution_count": 26,
   "id": "c6b1e77f",
   "metadata": {},
   "outputs": [
    {
     "data": {
      "text/plain": [
       "array([[0.10090178, 0.26513834, 0.73225713],\n",
       "       [0.35669252, 0.12342799, 0.74414789],\n",
       "       [0.5407976 , 0.68324731, 0.40503012]])"
      ]
     },
     "execution_count": 26,
     "metadata": {},
     "output_type": "execute_result"
    }
   ],
   "source": [
    "#균등하게 분포된 3*3 배열 만들기\n",
    "#0과 1 사이의 난수로 채움\n",
    "np.random.random((3,3))"
   ]
  },
  {
   "cell_type": "code",
   "execution_count": 27,
   "id": "80f62be1",
   "metadata": {},
   "outputs": [
    {
     "data": {
      "text/plain": [
       "array([[ 0.03746744, -0.72520655, -0.12185813],\n",
       "       [-0.82779917, -0.43928034, -0.17723987],\n",
       "       [ 1.60179448, -1.2320838 ,  2.14812186]])"
      ]
     },
     "execution_count": 27,
     "metadata": {},
     "output_type": "execute_result"
    }
   ],
   "source": [
    "#정규 분포(평균=0, 표준 편차=1)의 난수로 채운 3*3 배열 만들기\n",
    "np.random.normal(0,1,(3,3))"
   ]
  },
  {
   "cell_type": "code",
   "execution_count": 28,
   "id": "9a0a88d8",
   "metadata": {},
   "outputs": [
    {
     "data": {
      "text/plain": [
       "array([[5, 0, 3],\n",
       "       [4, 6, 0],\n",
       "       [4, 7, 3]], dtype=int32)"
      ]
     },
     "execution_count": 28,
     "metadata": {},
     "output_type": "execute_result"
    }
   ],
   "source": [
    "#[0,10] 구간의 임의의 정수로 채운 3*3 배열 만들기\n",
    "np.random.randint(0,10,(3,3))"
   ]
  },
  {
   "cell_type": "code",
   "execution_count": 29,
   "id": "f2509e72",
   "metadata": {},
   "outputs": [
    {
     "data": {
      "text/plain": [
       "array([[1., 0., 0.],\n",
       "       [0., 1., 0.],\n",
       "       [0., 0., 1.]])"
      ]
     },
     "execution_count": 29,
     "metadata": {},
     "output_type": "execute_result"
    }
   ],
   "source": [
    "#3*3 단위 행렬 만들기\n",
    "np.eye(3)"
   ]
  },
  {
   "cell_type": "code",
   "execution_count": 30,
   "id": "2019f636",
   "metadata": {},
   "outputs": [
    {
     "data": {
      "text/plain": [
       "array([1., 1., 1.])"
      ]
     },
     "execution_count": 30,
     "metadata": {},
     "output_type": "execute_result"
    }
   ],
   "source": [
    "#세 개의 정수를 가지는 초기화되지 않는 배열 만들기\n",
    "#값은 해당 메모리 위치에 이미 존재하고 있는 값으로 매움\n",
    "np.empty(3)"
   ]
  },
  {
   "cell_type": "markdown",
   "id": "37c1d964",
   "metadata": {},
   "source": [
    "### NumPy 표준 데이터 타입\n",
    "\n",
    "문자열을 이용해 지정하는 것도 가능(dtype='int16')\n",
    "\n",
    "| 데이터 타입     | 설명                                                                 |\n",
    "|----------------|----------------------------------------------------------------------|\n",
    "| `bool_`        | 1바이트로 저장된 부울 값 (참 또는 거짓)                               |\n",
    "| `int_`         | 기본 정수 타입 (C long과 같음, 일반적으로 int64 또는 int32)           |\n",
    "| `intc`         | C int와 동일 (일반적으로 int32 또는 int64)                            |\n",
    "| `intp`         | 인덱싱에 사용하는 정수 (C ssize_t와 동일, 일반적으로 int32 또는 int64) |\n",
    "| `int8`         | 1바이트 정수 (-128 ~ 127)                                             |\n",
    "| `int16`        | 정수 (-32,768 ~ 32,767)                                               |\n",
    "| `int32`        | 정수 (-2,147,483,648 ~ 2,147,483,647)                                 |\n",
    "| `int64`        | 정수 (-9,223,372,036,854,775,808 ~ 9,223,372,036,854,775,807)         |\n",
    "| `uint8`        | 부호 없는 정수 (0 ~ 255)                                              |\n",
    "| `uint16`       | 부호 없는 정수 (0 ~ 65,535)                                           |\n",
    "| `uint32`       | 부호 없는 정수 (0 ~ 4,294,967,295)                                    |\n",
    "| `uint64`       | 부호 없는 정수 (0 ~ 18,446,744,073,709,551,615)                       |\n",
    "| `float_`       | `float64`의 약칭                                                       |\n",
    "| `float16`      | 반정밀 부동 소수점: 부호 비트 1, 지수 5비트, 가수 10비트               |\n",
    "| `float32`      | 단정밀 부동 소수점: 부호 비트 1, 지수 8비트, 가수 23비트               |\n",
    "| `float64`      | 배정밀 부동 소수점: 부호 비트 1, 지수 11비트, 가수 53비트              |\n",
    "| `complex_`     | `complex128`의 약칭                                                    |\n",
    "| `complex64`    | 복소수, 두 개의 32비트 부동 소수점으로 표현                            |\n",
    "| `complex128`   | 복소수, 두 개의 64비트 부동 소수점으로 표현                            |\n",
    "\n",
    "\n",
    "\n"
   ]
  }
 ],
 "metadata": {
  "kernelspec": {
   "display_name": "Python 3",
   "language": "python",
   "name": "python3"
  },
  "language_info": {
   "codemirror_mode": {
    "name": "ipython",
    "version": 3
   },
   "file_extension": ".py",
   "mimetype": "text/x-python",
   "name": "python",
   "nbconvert_exporter": "python",
   "pygments_lexer": "ipython3",
   "version": "3.13.5"
  }
 },
 "nbformat": 4,
 "nbformat_minor": 5
}
