{
 "cells": [
  {
   "cell_type": "markdown",
   "id": "1153ad59",
   "metadata": {},
   "source": [
    "# Numpy 배열의 기초\n",
    "\n",
    "- Numpy의 배열 조작을 사용하는 예제를 살펴보자\n",
    "- 이 파트에서 다루는 기본 배열 조작의 범주\n",
    "    1. 배열 속성 지정\n",
    "    2. 배열 인덱싱\n",
    "    3. 배열 슬라이싱\n",
    "    4. 배열 재구조화\n",
    "    5. 배열 결합 및 분할"
   ]
  },
  {
   "cell_type": "markdown",
   "id": "4cec849a",
   "metadata": {},
   "source": [
    "### Numpy 배열 속성 지정\n",
    "- 몇 가지 유용한 배열 속성 알아보기!"
   ]
  },
  {
   "cell_type": "code",
   "execution_count": null,
   "id": "ee35fd91",
   "metadata": {},
   "outputs": [],
   "source": [
    "#먼저 1차원, 2차원, 3차원 난수 배열을 정의해 보자\n",
    "#Numpy 난수 생성기를 사용하며 코드를 실행할 때마다 같은 난수 배열이 생성되도록 시드 값을 설정해보자\n",
    "\n",
    "import numpy as np\n",
    "np.random.seed(0) #재현 가능성을 위한 시드 값\n",
    "\n",
    "x1=np.random.randint(10,size=6)"
   ]
  }
 ],
 "metadata": {
  "language_info": {
   "name": "python"
  }
 },
 "nbformat": 4,
 "nbformat_minor": 5
}
