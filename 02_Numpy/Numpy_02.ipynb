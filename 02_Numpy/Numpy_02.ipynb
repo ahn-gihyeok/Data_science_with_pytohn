{
 "cells": [
  {
   "cell_type": "markdown",
   "id": "1153ad59",
   "metadata": {},
   "source": [
    "# NumPy 배열의 기초\n",
    "\n",
    "- Numpy의 배열 조작을 사용하는 예제를 살펴보자\n",
    "- 이 파트에서 다루는 기본 배열 조작의 범주\n",
    "    1. 배열 속성 지정\n",
    "    2. 배열 인덱싱\n",
    "    3. 배열 슬라이싱\n",
    "    4. 배열 재구조화\n",
    "    5. 배열 결합 및 분할"
   ]
  },
  {
   "cell_type": "markdown",
   "id": "4cec849a",
   "metadata": {},
   "source": [
    "### NumPy 배열 속성 지정\n",
    "- 몇 가지 유용한 배열 속성 알아보기!"
   ]
  },
  {
   "cell_type": "code",
   "execution_count": 3,
   "id": "ee35fd91",
   "metadata": {},
   "outputs": [],
   "source": [
    "#먼저 1차원, 2차원, 3차원 난수 배열을 정의해 보자\n",
    "#NumPy 난수 생성기를 사용하며 코드를 실행할 때마다 같은 난수 배열이 생성되도록 시드 값을 설정해보자\n",
    "\n",
    "import numpy as np\n",
    "np.random.seed(0) #재현 가능성을 위한 시드 값\n",
    "\n",
    "x1=np.random.randint(10,size=6) #1차원 배열\n",
    "x2=np.random.randint(10,size=(3,4)) #2차원 배열\n",
    "x3=np.random.randint(10,size=(3,4,5)) #3차원 배열\n",
    "\n",
    "#각 배열은 속성으로 ndim(차원의 개수), shape(각 차원의 크기), size(전체 배열의 크기), dtype(각 요소의 타입)을 가짐"
   ]
  },
  {
   "cell_type": "markdown",
   "id": "095ad408",
   "metadata": {},
   "source": [
    "### 배열 인덱싱: 단일 요소에 접근하기"
   ]
  },
  {
   "cell_type": "code",
   "execution_count": 11,
   "id": "0baac9ad",
   "metadata": {},
   "outputs": [
    {
     "name": "stdout",
     "output_type": "stream",
     "text": [
      "[5 0 3 3 7 9]\n",
      "5\n",
      "7\n"
     ]
    }
   ],
   "source": [
    "#파이썬의 표준 리스트 인덱싱과 마찬가지로 NumPy의 인덱싱도 []안에 원하는 인덱스를 지정하면 된다\n",
    "print(x1) #print를 사용하면 array([...])가 생략되어서 출력된다\n",
    "print(x1[0])\n",
    "print(x1[4])"
   ]
  },
  {
   "cell_type": "code",
   "execution_count": 12,
   "id": "1c2a5ed2",
   "metadata": {},
   "outputs": [
    {
     "name": "stdout",
     "output_type": "stream",
     "text": [
      "9\n",
      "3\n"
     ]
    }
   ],
   "source": [
    "#음수 인덱싱도 사용 가능\n",
    "print(x1[-1])\n",
    "print(x1[-3])"
   ]
  },
  {
   "cell_type": "code",
   "execution_count": 15,
   "id": "45e6db3a",
   "metadata": {},
   "outputs": [
    {
     "name": "stdout",
     "output_type": "stream",
     "text": [
      "[[3 5 2 4]\n",
      " [7 6 8 8]\n",
      " [1 6 7 7]]\n",
      "3\n",
      "6\n",
      "7\n"
     ]
    }
   ],
   "source": [
    "#다차원 배열은 콤마로 구분된 인덱스 튜플을 이용한다\n",
    "print(x2)\n",
    "print(x2[0,0])\n",
    "print(x2[2,1])\n",
    "print(x2[-1,2])"
   ]
  },
  {
   "cell_type": "code",
   "execution_count": 16,
   "id": "a64e7e9e",
   "metadata": {},
   "outputs": [
    {
     "name": "stdout",
     "output_type": "stream",
     "text": [
      "[[12  5  2  4]\n",
      " [ 7  6  8  8]\n",
      " [ 1  6  7  7]]\n"
     ]
    }
   ],
   "source": [
    "#인덱스 표기법을 사용햐 값을 수정하기\n",
    "x2[0,0]=12\n",
    "print(x2)"
   ]
  },
  {
   "cell_type": "code",
   "execution_count": 17,
   "id": "78cfc0bb",
   "metadata": {},
   "outputs": [
    {
     "name": "stdout",
     "output_type": "stream",
     "text": [
      "[[3 5 2 4]\n",
      " [7 6 8 8]\n",
      " [1 6 7 7]]\n"
     ]
    }
   ],
   "source": [
    "#NumPy 배열은 고정 타입!! \n",
    "#x2에 부동 소수점 값을 넣으면 자동으로 소수점이 잘림\n",
    "x2[0,0]=3.141592\n",
    "print(x2)\n",
    "#Q:NumPy는 가능한 상위 타입을 취하려고 하는거 아니였는가? 다른 값들이 부동 소수점으로 바뀌지 않고 3.14..의 소수점이 잘려 정수값이 되는 이유는 무엇인가?\n",
    "#A:값을 생성할 때는 상위 타입을 취하지만 한번 생성하면 그 타입을 그대로 유지하려한다!"
   ]
  },
  {
   "cell_type": "markdown",
   "id": "6bf0fa79",
   "metadata": {},
   "source": [
    "### 배열 슬라이싱:하위 배열에 접근하기\n",
    "- []를 이용해 개별 요소에 접근할 수 있는 것처럼 :으로 표시되는 **슬라이스** 표기법으로 하위 배열에 접근 가능하다\n",
    "- x[start:stop:step]\n",
    "- 이 가운데 하나라도 지정되지 않으면 기본으로 start=0, stop=차원 크기, step=1로 값이 설정된다"
   ]
  },
  {
   "cell_type": "code",
   "execution_count": 18,
   "id": "be83e851",
   "metadata": {},
   "outputs": [
    {
     "data": {
      "text/plain": [
       "array([0, 1, 2, 3, 4, 5, 6, 7, 8, 9])"
      ]
     },
     "execution_count": 18,
     "metadata": {},
     "output_type": "execute_result"
    }
   ],
   "source": [
    "#1차원 하위 배열\n",
    "x=np.arange(10)\n",
    "x"
   ]
  },
  {
   "cell_type": "code",
   "execution_count": 19,
   "id": "d8a5e4b4",
   "metadata": {},
   "outputs": [
    {
     "name": "stdout",
     "output_type": "stream",
     "text": [
      "[0 1 2 3 4]\n",
      "[5 6 7 8 9]\n",
      "[4 5 6]\n",
      "[0 2 4 6 8]\n",
      "[1 3 5 7 9]\n"
     ]
    }
   ],
   "source": [
    "print(x[:5]) #첫 대섯 개 요소\n",
    "print(x[5:]) #인덱스 5 다음 요소들\n",
    "print(x[4:7]) #중간 하위 배열\n",
    "print(x[::2]) #하나 걸러 하나씩의 요소로 구성된 배열\n",
    "print(x[1::2]) #인덱스 1부터 시작해 하나 걸러 하나씩 요소로 구성된 배열"
   ]
  },
  {
   "cell_type": "code",
   "execution_count": 20,
   "id": "c15c2a82",
   "metadata": {},
   "outputs": [
    {
     "name": "stdout",
     "output_type": "stream",
     "text": [
      "[[3 5 2 4]\n",
      " [7 6 8 8]\n",
      " [1 6 7 7]]\n",
      "[[3 5 2]\n",
      " [7 6 8]]\n",
      "[[3 2]\n",
      " [7 8]\n",
      " [1 7]]\n"
     ]
    }
   ],
   "source": [
    "#다차원 하위 배열\n",
    "print(x2)\n",
    "print(x2[:2,:3]) #두 개의 행, 세 개의 열\n",
    "print(x2[:3,::2]) #모든 행, 한 열 걸러 하나씩"
   ]
  },
  {
   "cell_type": "code",
   "execution_count": 21,
   "id": "cfb78910",
   "metadata": {},
   "outputs": [
    {
     "data": {
      "text/plain": [
       "array([[7, 7, 6, 1],\n",
       "       [8, 8, 6, 7],\n",
       "       [4, 2, 5, 3]], dtype=int32)"
      ]
     },
     "execution_count": 21,
     "metadata": {},
     "output_type": "execute_result"
    }
   ],
   "source": [
    "#모두 역으로 변환\n",
    "x2[::-1,::-1]"
   ]
  },
  {
   "cell_type": "code",
   "execution_count": 22,
   "id": "317491a1",
   "metadata": {},
   "outputs": [
    {
     "name": "stdout",
     "output_type": "stream",
     "text": [
      "[3 7 1]\n",
      "[3 5 2 4]\n",
      "[3 5 2 4]\n"
     ]
    }
   ],
   "source": [
    "#단일 :으로 된 빈 슬라이스를 사용해 배열의 단일 행이나 열에 접근하기\n",
    "print(x2[:,0]) #x2의 첫 번째 열\n",
    "print(x2[0,:]) #x2의 첫 번째 행\n",
    "print(x2[0]) #행에 접근하는 경우 간단하게 : 생략 가능"
   ]
  },
  {
   "cell_type": "code",
   "execution_count": 24,
   "id": "61c2f041",
   "metadata": {},
   "outputs": [
    {
     "name": "stdout",
     "output_type": "stream",
     "text": [
      "[[3 5 2 4]\n",
      " [7 6 8 8]\n",
      " [1 6 7 7]]\n",
      "[[3 5]\n",
      " [7 6]]\n",
      "[[99  5]\n",
      " [ 7  6]]\n",
      "[[99  5  2  4]\n",
      " [ 7  6  8  8]\n",
      " [ 1  6  7  7]]\n"
     ]
    }
   ],
   "source": [
    "#배열 슬라이스는 파이썬 리스트 슬라이싱과 달리 copy가 아닌 view를 반환한다\n",
    "print(x2)\n",
    "x2_sub=x2[:2,:2] #x2에서 2*2 배열 추출함\n",
    "print(x2_sub)\n",
    "\n",
    "x2_sub[0,0]=99 #x2_sub를 수정\n",
    "print(x2_sub)\n",
    "print(x2) #x2도 수정됨(copy가 아닌 view이기 때문!)"
   ]
  },
  {
   "cell_type": "code",
   "execution_count": 25,
   "id": "64d247da",
   "metadata": {},
   "outputs": [
    {
     "name": "stdout",
     "output_type": "stream",
     "text": [
      "[[99  5]\n",
      " [ 7  6]]\n"
     ]
    }
   ],
   "source": [
    "#배열의 사본 만들기\n",
    "#copy() 메서드로 가능하다\n",
    "x2_sub_copy=x2[:2,:2].copy()\n",
    "print(x2_sub_copy)"
   ]
  },
  {
   "cell_type": "code",
   "execution_count": 26,
   "id": "9c4cba19",
   "metadata": {},
   "outputs": [
    {
     "name": "stdout",
     "output_type": "stream",
     "text": [
      "[[3 5]\n",
      " [7 6]]\n",
      "[[99  5  2  4]\n",
      " [ 7  6  8  8]\n",
      " [ 1  6  7  7]]\n"
     ]
    }
   ],
   "source": [
    "#이 하위 배열을 수정해도 원래 배열은 그대로 유지된다\n",
    "x2_sub_copy[0,0]=3\n",
    "print(x2_sub_copy)\n",
    "print(x2)"
   ]
  },
  {
   "cell_type": "markdown",
   "id": "d2661b45",
   "metadata": {},
   "source": [
    "### 배열 재구조화"
   ]
  },
  {
   "cell_type": "code",
   "execution_count": null,
   "id": "d9ecd7fc",
   "metadata": {},
   "outputs": [
    {
     "name": "stdout",
     "output_type": "stream",
     "text": [
      "[[1 2 3]\n",
      " [4 5 6]\n",
      " [7 8 9]]\n"
     ]
    }
   ],
   "source": [
    "#reshape() 매서드로 배열의 형상 변경하기\n",
    "grid=np.arange(1,10).reshape((3,3)) #숫자 1~9까지를 3*3 그리드에 넣기\n",
    "print(grid) #단, 초기 배열의 규모=변경된 배열의 규모여야함"
   ]
  },
  {
   "cell_type": "code",
   "execution_count": 28,
   "id": "c9a39218",
   "metadata": {},
   "outputs": [
    {
     "data": {
      "text/plain": [
       "array([[1, 2, 3]])"
      ]
     },
     "execution_count": 28,
     "metadata": {},
     "output_type": "execute_result"
    }
   ],
   "source": [
    "x=np.array([1,2,3])\n",
    "x.reshape((1,3)) #reshape를 이용한 행 벡터"
   ]
  },
  {
   "cell_type": "code",
   "execution_count": 29,
   "id": "5df40834",
   "metadata": {},
   "outputs": [
    {
     "data": {
      "text/plain": [
       "array([[1, 2, 3]])"
      ]
     },
     "execution_count": 29,
     "metadata": {},
     "output_type": "execute_result"
    }
   ],
   "source": [
    "#newaxis를 이용한 행 벡터\n",
    "x[np.newaxis,:]"
   ]
  },
  {
   "cell_type": "code",
   "execution_count": 30,
   "id": "3eb56599",
   "metadata": {},
   "outputs": [
    {
     "data": {
      "text/plain": [
       "array([[1],\n",
       "       [2],\n",
       "       [3]])"
      ]
     },
     "execution_count": 30,
     "metadata": {},
     "output_type": "execute_result"
    }
   ],
   "source": [
    "#reshape를 이용한 열 벡터\n",
    "x.reshape((3,1))"
   ]
  },
  {
   "cell_type": "code",
   "execution_count": 31,
   "id": "52f00b6e",
   "metadata": {},
   "outputs": [
    {
     "data": {
      "text/plain": [
       "array([[1],\n",
       "       [2],\n",
       "       [3]])"
      ]
     },
     "execution_count": 31,
     "metadata": {},
     "output_type": "execute_result"
    }
   ],
   "source": [
    "#newaxis를 이용한 열 벡터\n",
    "x[:,np.newaxis]"
   ]
  },
  {
   "cell_type": "markdown",
   "id": "20ea9692",
   "metadata": {},
   "source": [
    "### 배열 연결 및 분할\n",
    "- 지금까지는 모두 단열 배열에서 동작했지만 이제부터 여러 배열을 하나로 결합하거나 반대로 하나의 배열을 여러 배열로 쪼개보자"
   ]
  },
  {
   "cell_type": "code",
   "execution_count": 32,
   "id": "a3025df3",
   "metadata": {},
   "outputs": [
    {
     "data": {
      "text/plain": [
       "array([1, 2, 3, 3, 2, 1])"
      ]
     },
     "execution_count": 32,
     "metadata": {},
     "output_type": "execute_result"
    }
   ],
   "source": [
    "#배열 연결\n",
    "#np.concatenate는 튜플이나 배열의 리스트를 첫 번째 인수로 취함\n",
    "x=np.array([1,2,3])\n",
    "y=np.array([3,2,1])\n",
    "np.concatenate([x,y])"
   ]
  },
  {
   "cell_type": "code",
   "execution_count": 33,
   "id": "e0edcdf7",
   "metadata": {},
   "outputs": [
    {
     "data": {
      "text/plain": [
       "array([ 1,  2,  3,  3,  2,  1, 99, 99, 99])"
      ]
     },
     "execution_count": 33,
     "metadata": {},
     "output_type": "execute_result"
    }
   ],
   "source": [
    "#한 번에 두 개 이상의 배열 연결 가능\n",
    "z=[99,99,99]\n",
    "np.concatenate([x,y,z])"
   ]
  },
  {
   "cell_type": "code",
   "execution_count": 37,
   "id": "3ef7ddfe",
   "metadata": {},
   "outputs": [
    {
     "data": {
      "text/plain": [
       "array([[1, 2, 3],\n",
       "       [4, 5, 6],\n",
       "       [1, 2, 3],\n",
       "       [4, 5, 6]])"
      ]
     },
     "execution_count": 37,
     "metadata": {},
     "output_type": "execute_result"
    }
   ],
   "source": [
    "#2차원 배열에서도 사용 가능\n",
    "grid=np.array([[1,2,3],\n",
    "               [4,5,6]])\n",
    "#첫 번째 축을 따라 연결\n",
    "np.concatenate([grid,grid])"
   ]
  },
  {
   "cell_type": "code",
   "execution_count": 38,
   "id": "b1445f20",
   "metadata": {},
   "outputs": [
    {
     "data": {
      "text/plain": [
       "array([[1, 2, 3, 1, 2, 3],\n",
       "       [4, 5, 6, 4, 5, 6]])"
      ]
     },
     "execution_count": 38,
     "metadata": {},
     "output_type": "execute_result"
    }
   ],
   "source": [
    "#두 번째 축을 따라 연결(0부터 시작하는 인덱스 방식)\n",
    "np.concatenate([grid,grid],axis=1)"
   ]
  },
  {
   "cell_type": "code",
   "execution_count": 40,
   "id": "bc9d151a",
   "metadata": {},
   "outputs": [
    {
     "name": "stdout",
     "output_type": "stream",
     "text": [
      "[[1 2 3]\n",
      " [9 8 7]\n",
      " [6 5 4]]\n",
      "[[ 9  8  7 99]\n",
      " [ 6  5  4 99]]\n"
     ]
    }
   ],
   "source": [
    "#혼합된 차원의 배열로 작업할 때는 np.vstack(수직 스택, vertical stack)과 np.hstack(수평 스택, horizontal stack)함수가 더 명확하다\n",
    "x=np.array([1,2,3])\n",
    "grid=np.array([[9,8,7],\n",
    "               [6,5,4]])\n",
    "\n",
    "#배열을 수직으로 쌓기\n",
    "print(np.vstack([x,grid]))\n",
    "\n",
    "#배열을 수평으로 쌓기\n",
    "y=np.array([[99],\n",
    "            [99]])\n",
    "print(np.hstack([grid,y]))"
   ]
  },
  {
   "cell_type": "code",
   "execution_count": null,
   "id": "e184d284",
   "metadata": {},
   "outputs": [
    {
     "name": "stdout",
     "output_type": "stream",
     "text": [
      "[1 2 3] [99 99] [3 2 1]\n"
     ]
    }
   ],
   "source": [
    "#배열 분할\n",
    "#분할은 np.split, np.hsplit, np.vsplit 함수로 구현한다\n",
    "#각 함수에 분할 지점을 알려주는 인덱스 목록을 전달할 수 있다\n",
    "\n",
    "X=[1,2,3,99,99,3,2,1]\n",
    "X1, X2, X3=np.split(X,[3,5]) #3번 앞, 5번 앞에서 분할\n",
    "print(X1,X2,X3)"
   ]
  },
  {
   "cell_type": "code",
   "execution_count": 5,
   "id": "a2e98a0e",
   "metadata": {},
   "outputs": [
    {
     "data": {
      "text/plain": [
       "array([[ 0,  1,  2,  3],\n",
       "       [ 4,  5,  6,  7],\n",
       "       [ 8,  9, 10, 11],\n",
       "       [12, 13, 14, 15]])"
      ]
     },
     "execution_count": 5,
     "metadata": {},
     "output_type": "execute_result"
    }
   ],
   "source": [
    "#N개의 분할점은 N+1개의 하위 배열을 만든다\n",
    "#np.hsplit, np.vsplit은 서로 비슷하다\n",
    "grid=np.arange(16).reshape((4,4))\n",
    "grid"
   ]
  },
  {
   "cell_type": "code",
   "execution_count": 8,
   "id": "38f02d68",
   "metadata": {},
   "outputs": [
    {
     "name": "stdout",
     "output_type": "stream",
     "text": [
      "[[0 1 2 3]\n",
      " [4 5 6 7]]\n",
      "[[ 8  9 10 11]\n",
      " [12 13 14 15]]\n"
     ]
    }
   ],
   "source": [
    "upper, lower=np.vsplit(grid,[2])\n",
    "print(upper)\n",
    "print(lower)"
   ]
  },
  {
   "cell_type": "code",
   "execution_count": 9,
   "id": "6c55bab5",
   "metadata": {},
   "outputs": [
    {
     "name": "stdout",
     "output_type": "stream",
     "text": [
      "[[ 0  1]\n",
      " [ 4  5]\n",
      " [ 8  9]\n",
      " [12 13]]\n",
      "[[ 2  3]\n",
      " [ 6  7]\n",
      " [10 11]\n",
      " [14 15]]\n"
     ]
    }
   ],
   "source": [
    "left,right=np.hsplit(grid,[2])\n",
    "print(left)\n",
    "print(right)"
   ]
  }
 ],
 "metadata": {
  "kernelspec": {
   "display_name": "Python 3",
   "language": "python",
   "name": "python3"
  },
  "language_info": {
   "codemirror_mode": {
    "name": "ipython",
    "version": 3
   },
   "file_extension": ".py",
   "mimetype": "text/x-python",
   "name": "python",
   "nbconvert_exporter": "python",
   "pygments_lexer": "ipython3",
   "version": "3.13.5"
  }
 },
 "nbformat": 4,
 "nbformat_minor": 5
}
