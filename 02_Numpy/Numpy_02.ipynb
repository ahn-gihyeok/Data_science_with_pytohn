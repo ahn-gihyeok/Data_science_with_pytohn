{
 "cells": [
  {
   "cell_type": "markdown",
   "id": "1153ad59",
   "metadata": {},
   "source": [
    "# NumPy 배열의 기초\n",
    "\n",
    "- Numpy의 배열 조작을 사용하는 예제를 살펴보자\n",
    "- 이 파트에서 다루는 기본 배열 조작의 범주\n",
    "    1. 배열 속성 지정\n",
    "    2. 배열 인덱싱\n",
    "    3. 배열 슬라이싱\n",
    "    4. 배열 재구조화\n",
    "    5. 배열 결합 및 분할"
   ]
  },
  {
   "cell_type": "markdown",
   "id": "4cec849a",
   "metadata": {},
   "source": [
    "### NumPy 배열 속성 지정\n",
    "- 몇 가지 유용한 배열 속성 알아보기!"
   ]
  },
  {
   "cell_type": "code",
   "execution_count": null,
   "id": "ee35fd91",
   "metadata": {},
   "outputs": [],
   "source": [
    "#먼저 1차원, 2차원, 3차원 난수 배열을 정의해 보자\n",
    "#NumPy 난수 생성기를 사용하며 코드를 실행할 때마다 같은 난수 배열이 생성되도록 시드 값을 설정해보자\n",
    "\n",
    "import numpy as np\n",
    "np.random.seed(0) #재현 가능성을 위한 시드 값\n",
    "\n",
    "x1=np.random.randint(10,size=6) #1차원 배열\n",
    "x2=np.random.randint(10,size=(3,4)) #2차원 배열\n",
    "x3=np.random.randint(10,size=(3,4,5)) #3차원 배열\n",
    "\n",
    "#각 배열은 속성으로 ndim(차원의 개수), shape(각 차원의 크기), size(전체 배열의 크기), dtype(각 요소의 타입)을 가짐"
   ]
  }
 ],
 "metadata": {
  "kernelspec": {
   "display_name": "Python 3",
   "language": "python",
   "name": "python3"
  },
  "language_info": {
   "codemirror_mode": {
    "name": "ipython",
    "version": 3
   },
   "file_extension": ".py",
   "mimetype": "text/x-python",
   "name": "python",
   "nbconvert_exporter": "python",
   "pygments_lexer": "ipython3",
   "version": "3.13.5"
  }
 },
 "nbformat": 4,
 "nbformat_minor": 5
}
